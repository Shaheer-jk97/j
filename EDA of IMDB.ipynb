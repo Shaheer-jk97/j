{
 "cells": [
  {
   "cell_type": "markdown",
   "id": "0f07ccb7",
   "metadata": {},
   "source": [
    "# Exploratory Data Analysis of Top Rated IMDB Movies"
   ]
  },
  {
   "cell_type": "markdown",
   "id": "e10ebc31",
   "metadata": {},
   "source": [
    "## Introduction"
   ]
  },
  {
   "cell_type": "markdown",
   "id": "5911ea93",
   "metadata": {},
   "source": [
    "IMDB is an online database of information relating to Movies, TV Shows, Video Games & Web Series. As of March 2022, the database contained some 11 million titles (including television episodes) and 11.7 million person records. In this pipeline we will be looking at Top 1000 Movies from the IMDB Database."
   ]
  },
  {
   "cell_type": "markdown",
   "id": "6aed32e4",
   "metadata": {},
   "source": [
    "The dataset we will be using is taken from Kaggle and contains information about Top rated 1000 movies based on IMDB ratings.\n",
    "The dataset also contains other features, which are as follows,\n",
    "\n",
    "***Poster Link = Link of the poster that imdb using***\n",
    "\n",
    "***Series Title = Name of the movie***\n",
    "\n",
    "***Released Year = Year at which that movie released***\n",
    "\n",
    "***Certificate = Certificate earned by that movie***\n",
    "\n",
    "***Runtime = Total runtime of the movie***\n",
    "\n",
    "***Genre = Genre of the movie***\n",
    "\n",
    "***IMDB Rating = Rating of the movie at IMDB site***\n",
    "\n",
    "***Overview = mini story/ summary***\n",
    "\n",
    "***Meta score =  Score earned by the movie***\n",
    "\n",
    "***Director = Name of the Director***\n",
    "\n",
    "***Star1, Star2, Star3, Star4 - Name of the Stars***\n",
    "\n",
    "***No. of votes = Total number of votes***\n",
    "\n",
    "***Gross = Money earned by that movie***"
   ]
  },
  {
   "cell_type": "markdown",
   "id": "7223ed94",
   "metadata": {},
   "source": [
    "## Importing Libraries"
   ]
  },
  {
   "cell_type": "code",
   "execution_count": 67,
   "id": "ad85266b",
   "metadata": {},
   "outputs": [],
   "source": [
    "#import lib\n",
    "import pandas as pd\n",
    "import seaborn as sns\n",
    "import matplotlib.pyplot as plt"
   ]
  },
  {
   "cell_type": "markdown",
   "id": "a601f58b",
   "metadata": {},
   "source": [
    "## Loading the Dataset"
   ]
  },
  {
   "cell_type": "code",
   "execution_count": 68,
   "id": "3204f52f",
   "metadata": {
    "scrolled": false
   },
   "outputs": [
    {
     "data": {
      "text/html": [
       "<div>\n",
       "<style scoped>\n",
       "    .dataframe tbody tr th:only-of-type {\n",
       "        vertical-align: middle;\n",
       "    }\n",
       "\n",
       "    .dataframe tbody tr th {\n",
       "        vertical-align: top;\n",
       "    }\n",
       "\n",
       "    .dataframe thead th {\n",
       "        text-align: right;\n",
       "    }\n",
       "</style>\n",
       "<table border=\"1\" class=\"dataframe\">\n",
       "  <thead>\n",
       "    <tr style=\"text-align: right;\">\n",
       "      <th></th>\n",
       "      <th>Series_Title</th>\n",
       "      <th>Released_Year</th>\n",
       "      <th>Certificate</th>\n",
       "      <th>Runtime</th>\n",
       "      <th>Genre</th>\n",
       "      <th>IMDB_Rating</th>\n",
       "      <th>Overview</th>\n",
       "      <th>Meta_score</th>\n",
       "      <th>Director</th>\n",
       "      <th>Star1</th>\n",
       "      <th>Star2</th>\n",
       "      <th>Star3</th>\n",
       "      <th>Star4</th>\n",
       "      <th>No_of_Votes</th>\n",
       "      <th>Gross</th>\n",
       "    </tr>\n",
       "  </thead>\n",
       "  <tbody>\n",
       "    <tr>\n",
       "      <th>0</th>\n",
       "      <td>The Shawshank Redemption</td>\n",
       "      <td>1994</td>\n",
       "      <td>A</td>\n",
       "      <td>142 min</td>\n",
       "      <td>Drama</td>\n",
       "      <td>9.3</td>\n",
       "      <td>Two imprisoned men bond over a number of years...</td>\n",
       "      <td>80.0</td>\n",
       "      <td>Frank Darabont</td>\n",
       "      <td>Tim Robbins</td>\n",
       "      <td>Morgan Freeman</td>\n",
       "      <td>Bob Gunton</td>\n",
       "      <td>William Sadler</td>\n",
       "      <td>2343110</td>\n",
       "      <td>28,341,469</td>\n",
       "    </tr>\n",
       "    <tr>\n",
       "      <th>1</th>\n",
       "      <td>The Godfather</td>\n",
       "      <td>1972</td>\n",
       "      <td>A</td>\n",
       "      <td>175 min</td>\n",
       "      <td>Crime, Drama</td>\n",
       "      <td>9.2</td>\n",
       "      <td>An organized crime dynasty's aging patriarch t...</td>\n",
       "      <td>100.0</td>\n",
       "      <td>Francis Ford Coppola</td>\n",
       "      <td>Marlon Brando</td>\n",
       "      <td>Al Pacino</td>\n",
       "      <td>James Caan</td>\n",
       "      <td>Diane Keaton</td>\n",
       "      <td>1620367</td>\n",
       "      <td>134,966,411</td>\n",
       "    </tr>\n",
       "    <tr>\n",
       "      <th>2</th>\n",
       "      <td>The Dark Knight</td>\n",
       "      <td>2008</td>\n",
       "      <td>UA</td>\n",
       "      <td>152 min</td>\n",
       "      <td>Action, Crime, Drama</td>\n",
       "      <td>9.0</td>\n",
       "      <td>When the menace known as the Joker wreaks havo...</td>\n",
       "      <td>84.0</td>\n",
       "      <td>Christopher Nolan</td>\n",
       "      <td>Christian Bale</td>\n",
       "      <td>Heath Ledger</td>\n",
       "      <td>Aaron Eckhart</td>\n",
       "      <td>Michael Caine</td>\n",
       "      <td>2303232</td>\n",
       "      <td>534,858,444</td>\n",
       "    </tr>\n",
       "    <tr>\n",
       "      <th>3</th>\n",
       "      <td>The Godfather: Part II</td>\n",
       "      <td>1974</td>\n",
       "      <td>A</td>\n",
       "      <td>202 min</td>\n",
       "      <td>Crime, Drama</td>\n",
       "      <td>9.0</td>\n",
       "      <td>The early life and career of Vito Corleone in ...</td>\n",
       "      <td>90.0</td>\n",
       "      <td>Francis Ford Coppola</td>\n",
       "      <td>Al Pacino</td>\n",
       "      <td>Robert De Niro</td>\n",
       "      <td>Robert Duvall</td>\n",
       "      <td>Diane Keaton</td>\n",
       "      <td>1129952</td>\n",
       "      <td>57,300,000</td>\n",
       "    </tr>\n",
       "    <tr>\n",
       "      <th>4</th>\n",
       "      <td>12 Angry Men</td>\n",
       "      <td>1957</td>\n",
       "      <td>U</td>\n",
       "      <td>96 min</td>\n",
       "      <td>Crime, Drama</td>\n",
       "      <td>9.0</td>\n",
       "      <td>A jury holdout attempts to prevent a miscarria...</td>\n",
       "      <td>96.0</td>\n",
       "      <td>Sidney Lumet</td>\n",
       "      <td>Henry Fonda</td>\n",
       "      <td>Lee J. Cobb</td>\n",
       "      <td>Martin Balsam</td>\n",
       "      <td>John Fiedler</td>\n",
       "      <td>689845</td>\n",
       "      <td>4,360,000</td>\n",
       "    </tr>\n",
       "  </tbody>\n",
       "</table>\n",
       "</div>"
      ],
      "text/plain": [
       "               Series_Title Released_Year Certificate  Runtime  \\\n",
       "0  The Shawshank Redemption          1994           A  142 min   \n",
       "1             The Godfather          1972           A  175 min   \n",
       "2           The Dark Knight          2008          UA  152 min   \n",
       "3    The Godfather: Part II          1974           A  202 min   \n",
       "4              12 Angry Men          1957           U   96 min   \n",
       "\n",
       "                  Genre  IMDB_Rating  \\\n",
       "0                 Drama          9.3   \n",
       "1          Crime, Drama          9.2   \n",
       "2  Action, Crime, Drama          9.0   \n",
       "3          Crime, Drama          9.0   \n",
       "4          Crime, Drama          9.0   \n",
       "\n",
       "                                            Overview  Meta_score  \\\n",
       "0  Two imprisoned men bond over a number of years...        80.0   \n",
       "1  An organized crime dynasty's aging patriarch t...       100.0   \n",
       "2  When the menace known as the Joker wreaks havo...        84.0   \n",
       "3  The early life and career of Vito Corleone in ...        90.0   \n",
       "4  A jury holdout attempts to prevent a miscarria...        96.0   \n",
       "\n",
       "               Director           Star1           Star2          Star3  \\\n",
       "0        Frank Darabont     Tim Robbins  Morgan Freeman     Bob Gunton   \n",
       "1  Francis Ford Coppola   Marlon Brando       Al Pacino     James Caan   \n",
       "2     Christopher Nolan  Christian Bale    Heath Ledger  Aaron Eckhart   \n",
       "3  Francis Ford Coppola       Al Pacino  Robert De Niro  Robert Duvall   \n",
       "4          Sidney Lumet     Henry Fonda     Lee J. Cobb  Martin Balsam   \n",
       "\n",
       "            Star4  No_of_Votes        Gross  \n",
       "0  William Sadler      2343110   28,341,469  \n",
       "1    Diane Keaton      1620367  134,966,411  \n",
       "2   Michael Caine      2303232  534,858,444  \n",
       "3    Diane Keaton      1129952   57,300,000  \n",
       "4    John Fiedler       689845    4,360,000  "
      ]
     },
     "execution_count": 68,
     "metadata": {},
     "output_type": "execute_result"
    }
   ],
   "source": [
    "df = pd.read_csv('imdb.csv')\n",
    "df = df.drop('Poster_Link', axis = 1)\n",
    "df.head()"
   ]
  },
  {
   "cell_type": "markdown",
   "id": "b289ad7e",
   "metadata": {},
   "source": [
    "## Data Preprocessing"
   ]
  },
  {
   "cell_type": "markdown",
   "id": "ac198bd0",
   "metadata": {},
   "source": [
    "### Data Cleaning"
   ]
  },
  {
   "cell_type": "markdown",
   "id": "ce11b3eb",
   "metadata": {},
   "source": [
    "Looking for the Null values and Removing them from the Dataset"
   ]
  },
  {
   "cell_type": "code",
   "execution_count": 69,
   "id": "38e8b979",
   "metadata": {
    "scrolled": true
   },
   "outputs": [
    {
     "name": "stdout",
     "output_type": "stream",
     "text": [
      "<class 'pandas.core.frame.DataFrame'>\n",
      "RangeIndex: 1000 entries, 0 to 999\n",
      "Data columns (total 15 columns):\n",
      " #   Column         Non-Null Count  Dtype  \n",
      "---  ------         --------------  -----  \n",
      " 0   Series_Title   1000 non-null   object \n",
      " 1   Released_Year  1000 non-null   object \n",
      " 2   Certificate    899 non-null    object \n",
      " 3   Runtime        1000 non-null   object \n",
      " 4   Genre          1000 non-null   object \n",
      " 5   IMDB_Rating    1000 non-null   float64\n",
      " 6   Overview       1000 non-null   object \n",
      " 7   Meta_score     843 non-null    float64\n",
      " 8   Director       1000 non-null   object \n",
      " 9   Star1          1000 non-null   object \n",
      " 10  Star2          1000 non-null   object \n",
      " 11  Star3          1000 non-null   object \n",
      " 12  Star4          1000 non-null   object \n",
      " 13  No_of_Votes    1000 non-null   int64  \n",
      " 14  Gross          831 non-null    object \n",
      "dtypes: float64(2), int64(1), object(12)\n",
      "memory usage: 117.3+ KB\n",
      "None\n",
      "Series_Title       0\n",
      "Released_Year      0\n",
      "Certificate      101\n",
      "Runtime            0\n",
      "Genre              0\n",
      "IMDB_Rating        0\n",
      "Overview           0\n",
      "Meta_score       157\n",
      "Director           0\n",
      "Star1              0\n",
      "Star2              0\n",
      "Star3              0\n",
      "Star4              0\n",
      "No_of_Votes        0\n",
      "Gross            169\n",
      "dtype: int64\n",
      "Series_Title     0\n",
      "Released_Year    0\n",
      "Certificate      0\n",
      "Runtime          0\n",
      "Genre            0\n",
      "IMDB_Rating      0\n",
      "Overview         0\n",
      "Meta_score       0\n",
      "Director         0\n",
      "Star1            0\n",
      "Star2            0\n",
      "Star3            0\n",
      "Star4            0\n",
      "No_of_Votes      0\n",
      "Gross            0\n",
      "dtype: int64\n"
     ]
    }
   ],
   "source": [
    "print(df.info())\n",
    "\n",
    "print(df.isna().sum())\n",
    "\n",
    "df = df.dropna()\n",
    "\n",
    "print(df.isna().sum())"
   ]
  },
  {
   "cell_type": "markdown",
   "id": "2ed8ab71",
   "metadata": {},
   "source": [
    "Looking at the data information we see that we will have to change the dtypes of ***Released Year, Gross and Runtime*** from object to float values so that we can plot them in data visulization phase of this pipeline"
   ]
  },
  {
   "cell_type": "markdown",
   "id": "46b13871",
   "metadata": {},
   "source": [
    "### Data Transformation"
   ]
  },
  {
   "cell_type": "markdown",
   "id": "58054cb8",
   "metadata": {},
   "source": [
    "Let's look at the Released Year column,"
   ]
  },
  {
   "cell_type": "code",
   "execution_count": 70,
   "id": "81aaf3f9",
   "metadata": {
    "scrolled": true
   },
   "outputs": [
    {
     "data": {
      "text/plain": [
       "2014    28\n",
       "2004    27\n",
       "2001    24\n",
       "2009    23\n",
       "2013    22\n",
       "2006    21\n",
       "2007    21\n",
       "2016    20\n",
       "2003    19\n",
       "1993    19\n",
       "2015    18\n",
       "2010    18\n",
       "2002    18\n",
       "2017    18\n",
       "2008    17\n",
       "1999    17\n",
       "1998    16\n",
       "2000    16\n",
       "2019    15\n",
       "1995    14\n",
       "2012    14\n",
       "2011    14\n",
       "2005    14\n",
       "1997    13\n",
       "2018    12\n",
       "1987    12\n",
       "1994    12\n",
       "1991    11\n",
       "1992    10\n",
       "1982    10\n",
       "1973    10\n",
       "1979    10\n",
       "1989     9\n",
       "1996     8\n",
       "1984     8\n",
       "1986     8\n",
       "1985     8\n",
       "1990     8\n",
       "1988     7\n",
       "1971     7\n",
       "1964     6\n",
       "1980     6\n",
       "1974     5\n",
       "1960     5\n",
       "1976     5\n",
       "1951     4\n",
       "1983     4\n",
       "1981     4\n",
       "1954     4\n",
       "1978     4\n",
       "1959     4\n",
       "1972     4\n",
       "1967     4\n",
       "1968     4\n",
       "1975     4\n",
       "1969     3\n",
       "1940     3\n",
       "1963     3\n",
       "1965     3\n",
       "1958     3\n",
       "1962     3\n",
       "1970     3\n",
       "1977     3\n",
       "1939     3\n",
       "1957     2\n",
       "1966     2\n",
       "1946     2\n",
       "1961     2\n",
       "1952     2\n",
       "1930     1\n",
       "1938     1\n",
       "1933     1\n",
       "PG       1\n",
       "1944     1\n",
       "1934     1\n",
       "1949     1\n",
       "1948     1\n",
       "1950     1\n",
       "1941     1\n",
       "1931     1\n",
       "1936     1\n",
       "1942     1\n",
       "1953     1\n",
       "Name: Released_Year, dtype: int64"
      ]
     },
     "execution_count": 70,
     "metadata": {},
     "output_type": "execute_result"
    }
   ],
   "source": [
    "pd.set_option('display.max_rows', 800)\n",
    "\n",
    "df['Released_Year'].value_counts()"
   ]
  },
  {
   "cell_type": "markdown",
   "id": "7c1ad800",
   "metadata": {},
   "source": [
    "Looking at the above values from Released Year column, we notice that one of the Year has been misclassified as PG, instead of a year. Let's see which movie is misclassified,"
   ]
  },
  {
   "cell_type": "code",
   "execution_count": 71,
   "id": "f69b6066",
   "metadata": {},
   "outputs": [
    {
     "data": {
      "text/html": [
       "<div>\n",
       "<style scoped>\n",
       "    .dataframe tbody tr th:only-of-type {\n",
       "        vertical-align: middle;\n",
       "    }\n",
       "\n",
       "    .dataframe tbody tr th {\n",
       "        vertical-align: top;\n",
       "    }\n",
       "\n",
       "    .dataframe thead th {\n",
       "        text-align: right;\n",
       "    }\n",
       "</style>\n",
       "<table border=\"1\" class=\"dataframe\">\n",
       "  <thead>\n",
       "    <tr style=\"text-align: right;\">\n",
       "      <th></th>\n",
       "      <th>Series_Title</th>\n",
       "      <th>Released_Year</th>\n",
       "      <th>Certificate</th>\n",
       "      <th>Runtime</th>\n",
       "      <th>Genre</th>\n",
       "      <th>IMDB_Rating</th>\n",
       "      <th>Overview</th>\n",
       "      <th>Meta_score</th>\n",
       "      <th>Director</th>\n",
       "      <th>Star1</th>\n",
       "      <th>Star2</th>\n",
       "      <th>Star3</th>\n",
       "      <th>Star4</th>\n",
       "      <th>No_of_Votes</th>\n",
       "      <th>Gross</th>\n",
       "    </tr>\n",
       "  </thead>\n",
       "  <tbody>\n",
       "    <tr>\n",
       "      <th>966</th>\n",
       "      <td>Apollo 13</td>\n",
       "      <td>PG</td>\n",
       "      <td>U</td>\n",
       "      <td>140 min</td>\n",
       "      <td>Adventure, Drama, History</td>\n",
       "      <td>7.6</td>\n",
       "      <td>NASA must devise a strategy to return Apollo 1...</td>\n",
       "      <td>77.0</td>\n",
       "      <td>Ron Howard</td>\n",
       "      <td>Tom Hanks</td>\n",
       "      <td>Bill Paxton</td>\n",
       "      <td>Kevin Bacon</td>\n",
       "      <td>Gary Sinise</td>\n",
       "      <td>269197</td>\n",
       "      <td>173,837,933</td>\n",
       "    </tr>\n",
       "  </tbody>\n",
       "</table>\n",
       "</div>"
      ],
      "text/plain": [
       "    Series_Title Released_Year Certificate  Runtime  \\\n",
       "966    Apollo 13            PG           U  140 min   \n",
       "\n",
       "                         Genre  IMDB_Rating  \\\n",
       "966  Adventure, Drama, History          7.6   \n",
       "\n",
       "                                              Overview  Meta_score  \\\n",
       "966  NASA must devise a strategy to return Apollo 1...        77.0   \n",
       "\n",
       "       Director      Star1        Star2        Star3        Star4  \\\n",
       "966  Ron Howard  Tom Hanks  Bill Paxton  Kevin Bacon  Gary Sinise   \n",
       "\n",
       "     No_of_Votes        Gross  \n",
       "966       269197  173,837,933  "
      ]
     },
     "execution_count": 71,
     "metadata": {},
     "output_type": "execute_result"
    }
   ],
   "source": [
    "df.loc[df['Released_Year']=='PG']"
   ]
  },
  {
   "cell_type": "markdown",
   "id": "ab94bf0c",
   "metadata": {},
   "source": [
    "So, here it says that the movie Apollo has been misclassified, lets change the PG to the year the movie was released, that is, the year 1995."
   ]
  },
  {
   "cell_type": "code",
   "execution_count": 72,
   "id": "0b7b8989",
   "metadata": {
    "scrolled": true
   },
   "outputs": [
    {
     "data": {
      "text/html": [
       "<div>\n",
       "<style scoped>\n",
       "    .dataframe tbody tr th:only-of-type {\n",
       "        vertical-align: middle;\n",
       "    }\n",
       "\n",
       "    .dataframe tbody tr th {\n",
       "        vertical-align: top;\n",
       "    }\n",
       "\n",
       "    .dataframe thead th {\n",
       "        text-align: right;\n",
       "    }\n",
       "</style>\n",
       "<table border=\"1\" class=\"dataframe\">\n",
       "  <thead>\n",
       "    <tr style=\"text-align: right;\">\n",
       "      <th></th>\n",
       "      <th>Series_Title</th>\n",
       "      <th>Released_Year</th>\n",
       "      <th>Certificate</th>\n",
       "      <th>Runtime</th>\n",
       "      <th>Genre</th>\n",
       "      <th>IMDB_Rating</th>\n",
       "      <th>Overview</th>\n",
       "      <th>Meta_score</th>\n",
       "      <th>Director</th>\n",
       "      <th>Star1</th>\n",
       "      <th>Star2</th>\n",
       "      <th>Star3</th>\n",
       "      <th>Star4</th>\n",
       "      <th>No_of_Votes</th>\n",
       "      <th>Gross</th>\n",
       "    </tr>\n",
       "  </thead>\n",
       "  <tbody>\n",
       "    <tr>\n",
       "      <th>686</th>\n",
       "      <td>Apollo 13</td>\n",
       "      <td>1995</td>\n",
       "      <td>U</td>\n",
       "      <td>140 min</td>\n",
       "      <td>Adventure, Drama, History</td>\n",
       "      <td>7.6</td>\n",
       "      <td>NASA must devise a strategy to return Apollo 1...</td>\n",
       "      <td>77.0</td>\n",
       "      <td>Ron Howard</td>\n",
       "      <td>Tom Hanks</td>\n",
       "      <td>Bill Paxton</td>\n",
       "      <td>Kevin Bacon</td>\n",
       "      <td>Gary Sinise</td>\n",
       "      <td>269197</td>\n",
       "      <td>173,837,933</td>\n",
       "    </tr>\n",
       "  </tbody>\n",
       "</table>\n",
       "</div>"
      ],
      "text/plain": [
       "    Series_Title Released_Year Certificate  Runtime  \\\n",
       "686    Apollo 13          1995           U  140 min   \n",
       "\n",
       "                         Genre  IMDB_Rating  \\\n",
       "686  Adventure, Drama, History          7.6   \n",
       "\n",
       "                                              Overview  Meta_score  \\\n",
       "686  NASA must devise a strategy to return Apollo 1...        77.0   \n",
       "\n",
       "       Director      Star1        Star2        Star3        Star4  \\\n",
       "686  Ron Howard  Tom Hanks  Bill Paxton  Kevin Bacon  Gary Sinise   \n",
       "\n",
       "     No_of_Votes        Gross  \n",
       "686       269197  173,837,933  "
      ]
     },
     "execution_count": 72,
     "metadata": {},
     "output_type": "execute_result"
    }
   ],
   "source": [
    "df = df.reset_index()\n",
    "df = df.drop('index', axis =1)\n",
    "df.iat[686, 1] = '1995'\n",
    "df.loc[df['Series_Title']== 'Apollo 13']"
   ]
  },
  {
   "cell_type": "markdown",
   "id": "072e6693",
   "metadata": {},
   "source": [
    "now that the data has ben corrected, we can move on to transforming the dtypes of ***Released Year, Gross and Runtime*** columns."
   ]
  },
  {
   "cell_type": "code",
   "execution_count": 73,
   "id": "323af19c",
   "metadata": {
    "scrolled": true
   },
   "outputs": [
    {
     "name": "stdout",
     "output_type": "stream",
     "text": [
      "<class 'pandas.core.frame.DataFrame'>\n",
      "RangeIndex: 714 entries, 0 to 713\n",
      "Data columns (total 15 columns):\n",
      " #   Column         Non-Null Count  Dtype  \n",
      "---  ------         --------------  -----  \n",
      " 0   Series_Title   714 non-null    object \n",
      " 1   Released_Year  714 non-null    int64  \n",
      " 2   Certificate    714 non-null    object \n",
      " 3   Runtime        714 non-null    int64  \n",
      " 4   Genre          714 non-null    object \n",
      " 5   IMDB_Rating    714 non-null    float64\n",
      " 6   Overview       714 non-null    object \n",
      " 7   Meta_score     714 non-null    float64\n",
      " 8   Director       714 non-null    object \n",
      " 9   Star1          714 non-null    object \n",
      " 10  Star2          714 non-null    object \n",
      " 11  Star3          714 non-null    object \n",
      " 12  Star4          714 non-null    object \n",
      " 13  No_of_Votes    714 non-null    int64  \n",
      " 14  Gross          714 non-null    float64\n",
      "dtypes: float64(3), int64(3), object(9)\n",
      "memory usage: 83.8+ KB\n",
      "None\n"
     ]
    }
   ],
   "source": [
    "df['Gross'] = df['Gross'].str.replace(',', '').astype(float)\n",
    "df['Gross'].apply(pd.to_numeric)\n",
    "\n",
    "df['Released_Year'] = df['Released_Year'].astype(int)\n",
    "\n",
    "df['Runtime']=df['Runtime'].str.replace(' min','')\n",
    "df['Runtime']=df['Runtime'].astype(str).astype(int)\n",
    "\n",
    "print(df.info())"
   ]
  },
  {
   "cell_type": "markdown",
   "id": "ec120fbc",
   "metadata": {},
   "source": [
    "With that, we are done with Data Preprocessing, and can move onto the Data Exploration."
   ]
  },
  {
   "cell_type": "markdown",
   "id": "0c763478",
   "metadata": {},
   "source": [
    "## Data Exploration"
   ]
  },
  {
   "cell_type": "markdown",
   "id": "aff604fc",
   "metadata": {},
   "source": [
    "### Setting Styling Parameters"
   ]
  },
  {
   "cell_type": "code",
   "execution_count": 182,
   "id": "80a27fe8",
   "metadata": {},
   "outputs": [],
   "source": [
    "sns.set_style('darkgrid');\n",
    "sns.set_context(context='paper', font_scale=1);"
   ]
  },
  {
   "cell_type": "markdown",
   "id": "7766bffe",
   "metadata": {},
   "source": [
    "### Which movie is the highest grossing movie in this dataset?"
   ]
  },
  {
   "cell_type": "code",
   "execution_count": 227,
   "id": "302e04d7",
   "metadata": {
    "scrolled": true
   },
   "outputs": [
    {
     "name": "stdout",
     "output_type": "stream",
     "text": [
      "The Highest Grossing Movie is:  Star Wars: Episode VII - The Force Awakens\n"
     ]
    }
   ],
   "source": [
    "h_price = df.loc[df['Gross'].idxmax()]\n",
    "print('The Highest Grossing Movie is: ', h_price['Series_Title'])"
   ]
  },
  {
   "cell_type": "markdown",
   "id": "a188b599",
   "metadata": {},
   "source": [
    "### Which Year had the most IMDB top 1000 entries?"
   ]
  },
  {
   "cell_type": "code",
   "execution_count": 180,
   "id": "d4c3add4",
   "metadata": {
    "scrolled": true
   },
   "outputs": [
    {
     "name": "stdout",
     "output_type": "stream",
     "text": [
      "The year with highest number of entries in IMDB top 1000 is 2014 with 28\n"
     ]
    }
   ],
   "source": [
    "year = df['Released_Year'].value_counts()\n",
    "year_max = year.idxmax()\n",
    "year_count = year.max()\n",
    "print('The year with highest number of entries in IMDB top 1000 is', year_max, 'with', year_count,) "
   ]
  },
  {
   "cell_type": "markdown",
   "id": "2245c1fe",
   "metadata": {},
   "source": [
    "##### Top 5 Years with most movies in IMDB top 1000"
   ]
  },
  {
   "cell_type": "markdown",
   "id": "2fba62e2",
   "metadata": {},
   "source": [
    "Years with highest number of IMDB top 1000 entries other then 2014, are as follow:"
   ]
  },
  {
   "cell_type": "code",
   "execution_count": 191,
   "id": "0a0f444e",
   "metadata": {},
   "outputs": [
    {
     "data": {
      "image/png": "[encoded data removed]",
      "text/plain": [
       "<Figure size 864x720 with 1 Axes>"
      ]
     },
     "metadata": {},
     "output_type": "display_data"
    }
   ],
   "source": [
    "plt.figure(figsize=(12,10))\n",
    "year_1 = sns.countplot(x=\"Released_Year\", data=df, palette=\"Set1\", order=df['Released_Year'].value_counts().index[0:5])"
   ]
  },
  {
   "cell_type": "markdown",
   "id": "e040f80b",
   "metadata": {},
   "source": [
    "### Top 5 Directors by number of movies in IMDB top 1000"
   ]
  },
  {
   "cell_type": "code",
   "execution_count": 185,
   "id": "571ec189",
   "metadata": {
    "scrolled": false
   },
   "outputs": [
    {
     "data": {
      "image/png": "[encoded data removed]",
      "text/plain": [
       "<Figure size 864x720 with 1 Axes>"
      ]
     },
     "metadata": {},
     "output_type": "display_data"
    }
   ],
   "source": [
    "plt.figure(figsize=(12,10))\n",
    "sns.set(style=\"darkgrid\")\n",
    "ax = sns.countplot(x=\"Director\", data=df, palette=\"Set2\", order=df['Director'].value_counts().index[0:5])"
   ]
  },
  {
   "cell_type": "markdown",
   "id": "b14374b9",
   "metadata": {},
   "source": [
    "Here, we can see the top 5 Directors, from thess results we can see that ***Steven Spielberg*** is most highly rated director."
   ]
  },
  {
   "cell_type": "markdown",
   "id": "b53645c0",
   "metadata": {},
   "source": [
    "### Average Runtime of Movies"
   ]
  },
  {
   "cell_type": "markdown",
   "id": "fb25a229",
   "metadata": {},
   "source": [
    "Let's look at the average run time of top rated movies."
   ]
  },
  {
   "cell_type": "code",
   "execution_count": 187,
   "id": "fac6ab06",
   "metadata": {
    "scrolled": false
   },
   "outputs": [
    {
     "data": {
      "text/plain": [
       "<AxesSubplot:xlabel='Runtime', ylabel='Density'>"
      ]
     },
     "execution_count": 187,
     "metadata": {},
     "output_type": "execute_result"
    },
    {
     "data": {
      "image/png": "[encoded data removed]",
      "text/plain": [
       "<Figure size 864x360 with 1 Axes>"
      ]
     },
     "metadata": {},
     "output_type": "display_data"
    }
   ],
   "source": [
    "plt.figure(figsize=(12,5))\n",
    "sns.kdeplot(data=df['Runtime'], shade=True)"
   ]
  },
  {
   "cell_type": "markdown",
   "id": "b7a49699",
   "metadata": {},
   "source": [
    "Here we can see that on average an IMDB top 1000 Movie has a runtime of 120 to 125 minutes."
   ]
  },
  {
   "cell_type": "markdown",
   "id": "793895bb",
   "metadata": {},
   "source": [
    "### Relation between IMDB Rating and Gross Amount"
   ]
  },
  {
   "cell_type": "markdown",
   "id": "ff30c481",
   "metadata": {},
   "source": [
    "Observing the Trend betweeb the Ratings and Amount earned. To see if there is a relationship between these two features."
   ]
  },
  {
   "cell_type": "code",
   "execution_count": 190,
   "id": "92ec8825",
   "metadata": {},
   "outputs": [
    {
     "data": {
      "text/plain": [
       "<seaborn.axisgrid.FacetGrid at 0x7f98d0ae91c0>"
      ]
     },
     "execution_count": 190,
     "metadata": {},
     "output_type": "execute_result"
    },
    {
     "data": {
      "text/plain": [
       "<Figure size 864x720 with 0 Axes>"
      ]
     },
     "metadata": {},
     "output_type": "display_data"
    },
    {
     "data": {
      "image/png": "[encoded data removed]",
      "text/plain": [
       "<Figure size 360x360 with 1 Axes>"
      ]
     },
     "metadata": {},
     "output_type": "display_data"
    }
   ],
   "source": [
    "plt.figure(figsize=(12,10))\n",
    "sns.lmplot(data = df, x = 'IMDB_Rating', y = 'Gross')"
   ]
  },
  {
   "cell_type": "markdown",
   "id": "9180cdb5",
   "metadata": {},
   "source": [
    "Plotting lmplot on the two features, we can see that the line of linear regression has very very low gradient and we can come to the conclusion that there is not a strong relation between the two features, which means that being a high rated movie at IMDB does not guarantees that a Movie will do good business."
   ]
  },
  {
   "cell_type": "markdown",
   "id": "868e2146",
   "metadata": {},
   "source": [
    "### Distribution of Certificates"
   ]
  },
  {
   "cell_type": "markdown",
   "id": "bd79f77c",
   "metadata": {},
   "source": [
    "Let's see how the certificates are distributed in our dataset, but before we can dive into the certificate distribution we need to first clean sum data regarding the certificate. Some certificates mean the same thing but are assigned a different value so will start by folding them into eachother, and convert them to a standard Motion Pictures Rating System."
   ]
  },
  {
   "cell_type": "code",
   "execution_count": 273,
   "id": "c3a0fef3",
   "metadata": {},
   "outputs": [],
   "source": [
    "df.loc[df['Certificate']=='U/A'] = 'PG'\n",
    "df.loc[df['Certificate']=='UA'] = 'PG'\n",
    "df.loc[df['Certificate']=='A'] = 'R'\n",
    "df.loc[df['Certificate']=='U'] = 'G'\n",
    "df.loc[df['Certificate']=='Approved'] = 'Passed'\n",
    "df.loc[df['Certificate']=='TV-PG'] = 'PG'\n",
    "df.loc[df['Certificate']=='GP'] = 'PG'\n",
    "df.loc[df['Certificate']=='TV-14'] = 'PG-13'\n",
    "df.loc[df['Certificate']=='16'] = 'R'\n",
    "df.loc[df['Certificate']=='TV-MA'] = 'R'\n",
    "df.loc[df['Certificate'].isna()] = 'Unrated'"
   ]
  },
  {
   "cell_type": "markdown",
   "id": "d97e837d",
   "metadata": {},
   "source": [
    "Now that we have merged the similar certificates, now we can plot them on a pie chart and visualize their distribution."
   ]
  },
  {
   "cell_type": "code",
   "execution_count": 274,
   "id": "4c524c52",
   "metadata": {},
   "outputs": [
    {
     "data": {
      "image/png": "[encoded data removed]",
      "text/plain": [
       "<Figure size 864x720 with 1 Axes>"
      ]
     },
     "metadata": {},
     "output_type": "display_data"
    }
   ],
   "source": [
    "plt.figure(figsize=(12,10))\n",
    "data = df['Certificate'].value_counts()\n",
    "lab = df['Certificate'].unique()\n",
    "plt.pie(data, labels = lab )\n",
    "plt.legend()\n",
    "plt.show()"
   ]
  },
  {
   "cell_type": "markdown",
   "id": "582771d3",
   "metadata": {},
   "source": [
    "To decipher what the pie chart describes, we will have understand the meanings off all these certificates,\n",
    "***R*** means restricted, children under 17 require accompanying parent or adult guardian. ***PG*** means parental guidance suggested, some material may not be suitable for children. **PG-13** means parents strongly cautioned, some material may be\n",
    "inappropriate for children under 13. ***G*** means General Audiences, all ages admitted . ***Passed*** is a certificate given to movies before they had a rating system.\n"
   ]
  },
  {
   "cell_type": "markdown",
   "id": "43ba72fb",
   "metadata": {},
   "source": [
    "From the above chart we can see that most of the top rated movies on IMDB have a ***R*** certificate."
   ]
  },
  {
   "cell_type": "markdown",
   "id": "df564f34",
   "metadata": {},
   "source": [
    "# Conclusion"
   ]
  },
  {
   "cell_type": "markdown",
   "id": "9241ce21",
   "metadata": {},
   "source": [
    "In the pipeline above we have seen how different features of Movies, such as, Genre, Runtime, Certificate etc. effect their earnings and ratings."
   ]
  },
  {
   "cell_type": "markdown",
   "id": "42b12d8e",
   "metadata": {},
   "source": [
    "# Reference"
   ]
  },
  {
   "cell_type": "markdown",
   "id": "2d2a3cac",
   "metadata": {},
   "source": [
    "https://www.kaggle.com/datasets/harshitshankhdhar/imdb-dataset-of-top-1000-movies-and-tv-shows\n",
    "\n",
    "https://www.imdb.com/pressroom/stats/\n",
    "\n",
    "https://www.filmratings.com/Content/Downloads/rating_rules.pdf"
   ]
  }
 ],
 "metadata": {
  "kernelspec": {
   "display_name": "Python 3 (ipykernel)",
   "language": "python",
   "name": "python3"
  },
  "language_info": {
   "codemirror_mode": {
    "name": "ipython",
    "version": 3
   },
   "file_extension": ".py",
   "mimetype": "text/x-python",
   "name": "python",
   "nbconvert_exporter": "python",
   "pygments_lexer": "ipython3",
   "version": "3.10.7"
  }
 },
 "nbformat": 4,
 "nbformat_minor": 5
}
